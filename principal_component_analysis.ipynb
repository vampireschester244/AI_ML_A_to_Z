{
  "nbformat": 4,
  "nbformat_minor": 0,
  "metadata": {
    "colab": {
      "provenance": []
    },
    "kernelspec": {
      "name": "python3",
      "display_name": "Python 3"
    }
  },
  "cells": [
    {
      "cell_type": "markdown",
      "metadata": {
        "id": "VQ3syspj_rKn"
      },
      "source": [
        "# Principal Component Analysis (PCA)"
      ]
    },
    {
      "cell_type": "markdown",
      "metadata": {
        "id": "xJGl9TcT_skx"
      },
      "source": [
        "## Importing the libraries"
      ]
    },
    {
      "cell_type": "code",
      "metadata": {
        "id": "BNEgrGwd_29D"
      },
      "source": [
        "import numpy as np\n",
        "import matplotlib.pyplot as plt\n",
        "import pandas as pd"
      ],
      "execution_count": 1,
      "outputs": []
    },
    {
      "cell_type": "markdown",
      "metadata": {
        "id": "Hyp1gza1_6qX"
      },
      "source": [
        "## Importing the dataset"
      ]
    },
    {
      "cell_type": "code",
      "source": [
        "dataset = pd.read_csv('Wine.csv')\n",
        "X = dataset.iloc[:, :-1].values\n",
        "y = dataset.iloc[:, -1].values"
      ],
      "metadata": {
        "id": "c9xEhK-xOtKs"
      },
      "execution_count": 2,
      "outputs": []
    },
    {
      "cell_type": "markdown",
      "metadata": {
        "id": "3bUhSHktAcOe"
      },
      "source": [
        "## Splitting the dataset into the Training set and Test set"
      ]
    },
    {
      "cell_type": "code",
      "source": [
        "from sklearn.model_selection import train_test_split\n",
        "X_train, X_test, y_train, y_test = train_test_split(X, y, test_size=0.2, random_state=0)"
      ],
      "metadata": {
        "id": "y2RIOU4hO5nW"
      },
      "execution_count": 3,
      "outputs": []
    },
    {
      "cell_type": "markdown",
      "metadata": {
        "id": "1wrHODfJAEiI"
      },
      "source": [
        "## Feature Scaling"
      ]
    },
    {
      "cell_type": "code",
      "source": [
        "from sklearn.preprocessing import StandardScaler\n",
        "sc = StandardScaler()\n",
        "X_train = sc.fit_transform(X_train)\n",
        "X_test = sc.transform(X_test)"
      ],
      "metadata": {
        "id": "itnTlkvGPH9Y"
      },
      "execution_count": 10,
      "outputs": []
    },
    {
      "cell_type": "code",
      "source": [
        "print(X_train)"
      ],
      "metadata": {
        "colab": {
          "base_uri": "https://localhost:8080/"
        },
        "id": "Qbsowf1DP3Ka",
        "outputId": "7962c78f-d400-4346-8749-17a38b3e8baf"
      },
      "execution_count": 11,
      "outputs": [
        {
          "output_type": "stream",
          "name": "stdout",
          "text": [
            "[[ 0.87668336  0.79842885  0.64412971 ...  0.0290166  -1.06412236\n",
            "  -0.2059076 ]\n",
            " [-0.36659076 -0.7581304  -0.39779858 ...  0.0290166  -0.73083231\n",
            "  -0.81704676]\n",
            " [-1.69689407 -0.34424759 -0.32337513 ...  0.90197362  0.51900537\n",
            "  -1.31256499]\n",
            " ...\n",
            " [-0.70227477 -0.68615078 -0.65828065 ...  0.46549511  0.51900537\n",
            "  -1.31256499]\n",
            " [ 1.13777093 -0.62316862 -0.91876272 ... -0.18922266  1.03282752\n",
            "   0.80164614]\n",
            " [ 1.4610222   0.12361993  0.42085937 ... -1.45501034 -1.2168803\n",
            "  -0.2719767 ]]\n"
          ]
        }
      ]
    },
    {
      "cell_type": "markdown",
      "metadata": {
        "id": "S3i3lRiwASAX"
      },
      "source": [
        "## Applying PCA"
      ]
    },
    {
      "cell_type": "code",
      "source": [
        "from sklearn.decomposition import PCA\n",
        "pca = PCA(n_components = 2)\n",
        "X_train = pca.fit_transform(X_train)\n",
        "X_test = pca.transform(X_test)"
      ],
      "metadata": {
        "id": "dBUAPb_iPWGP"
      },
      "execution_count": 12,
      "outputs": []
    },
    {
      "cell_type": "code",
      "source": [
        "print(X_train)"
      ],
      "metadata": {
        "colab": {
          "base_uri": "https://localhost:8080/"
        },
        "id": "zwKHafSgP6ER",
        "outputId": "b197b676-b736-4570-d34c-88fc0ea3f089"
      },
      "execution_count": 13,
      "outputs": [
        {
          "output_type": "stream",
          "name": "stdout",
          "text": [
            "[[-2.17884511e+00 -1.07218467e+00]\n",
            " [-1.80819239e+00  1.57822344e+00]\n",
            " [ 1.09829474e+00  2.22124345e+00]\n",
            " [-2.55584748e+00 -1.66210369e+00]\n",
            " [ 1.85698063e+00  2.41573166e-01]\n",
            " [ 2.58288576e+00 -1.37668170e+00]\n",
            " [ 8.72876119e-01  2.25618512e+00]\n",
            " [-4.18384029e-01  2.35415681e+00]\n",
            " [-3.04977245e-01  2.27659433e+00]\n",
            " [ 2.14082532e+00 -1.10052871e+00]\n",
            " [-2.98136465e+00 -2.47159183e-01]\n",
            " [ 1.96188242e+00  1.25407738e+00]\n",
            " [-2.16177795e+00 -9.75966550e-01]\n",
            " [ 2.21976084e+00 -2.39507167e+00]\n",
            " [-2.30179529e+00 -2.05791962e-01]\n",
            " [-3.00953827e+00 -2.79141212e-01]\n",
            " [ 2.63443473e+00 -8.68313119e-01]\n",
            " [-1.09219965e+00 -3.53906625e+00]\n",
            " [ 2.62578435e+00 -2.96852840e-03]\n",
            " [ 1.98077342e-01  2.29193443e+00]\n",
            " [-2.67442753e+00 -2.58800132e+00]\n",
            " [-2.54763698e+00 -4.52703891e-01]\n",
            " [ 1.77416736e+00  8.43586940e-01]\n",
            " [-2.77786938e+00 -4.32090258e-01]\n",
            " [-2.86679938e+00 -1.87580875e+00]\n",
            " [ 1.35498845e+00  3.99545184e-02]\n",
            " [-2.43900474e+00  9.44074889e-02]\n",
            " [-2.27268121e+00  5.05883053e-01]\n",
            " [ 1.17887166e+00  2.50068415e+00]\n",
            " [-2.30673313e+00  1.30502777e+00]\n",
            " [-2.53020738e+00 -5.51277126e-01]\n",
            " [ 1.63200028e-01  1.29107817e+00]\n",
            " [ 2.57881158e+00 -1.17515982e+00]\n",
            " [-7.62471566e-01  3.16097049e+00]\n",
            " [ 2.57005937e+00 -9.66718786e-02]\n",
            " [-4.78337042e-01  5.77763823e-01]\n",
            " [ 5.47417096e-01 -3.77647780e-01]\n",
            " [ 3.55763538e+00 -1.45816125e+00]\n",
            " [ 1.69260971e+00  1.37844174e+00]\n",
            " [ 2.65288395e+00 -2.39399539e-01]\n",
            " [-3.62047411e+00 -6.90153979e-01]\n",
            " [-1.61462317e+00 -2.41170340e+00]\n",
            " [ 1.50959767e+00  1.32717326e+00]\n",
            " [ 5.36413494e-02  2.07680094e+00]\n",
            " [-1.07889168e-01  2.85115217e+00]\n",
            " [-2.39610454e+00 -2.45883860e+00]\n",
            " [-3.12315181e+00  4.23261512e-01]\n",
            " [ 3.28569649e+00 -3.22859884e-01]\n",
            " [-3.55506872e+00 -1.74242946e+00]\n",
            " [-3.87020538e-01  2.61510101e+00]\n",
            " [-4.74514016e-01  1.98023790e+00]\n",
            " [-1.06865761e+00  6.78906271e-01]\n",
            " [ 1.08546036e+00  1.30817801e+00]\n",
            " [ 2.02340107e+00  1.56926094e+00]\n",
            " [ 2.76257094e+00 -1.85603600e+00]\n",
            " [ 2.06778286e+00 -1.35861191e+00]\n",
            " [ 9.06600653e-01  2.04110996e+00]\n",
            " [ 3.52336455e+00 -1.39946872e+00]\n",
            " [-3.79914321e+00 -4.92727617e-02]\n",
            " [ 1.75250993e+00  4.64283651e-01]\n",
            " [-3.46539192e+00 -7.90385134e-01]\n",
            " [ 3.16221605e+00 -8.39879111e-01]\n",
            " [ 2.37656864e+00 -1.72475988e+00]\n",
            " [ 1.31278073e+00  8.53348760e-01]\n",
            " [ 3.57258440e+00 -1.78091597e+00]\n",
            " [ 9.50877158e-01  2.38927332e+00]\n",
            " [ 4.95461316e-01  2.16498322e+00]\n",
            " [ 3.79294638e+00 -2.92787186e+00]\n",
            " [-2.37978591e+00 -2.13572422e+00]\n",
            " [-1.50346992e+00  1.39146991e+00]\n",
            " [ 2.50566646e+00 -1.30365941e+00]\n",
            " [-6.97535788e-01  2.78160736e-01]\n",
            " [-7.25562555e-01  2.54007170e+00]\n",
            " [ 9.24047324e-01  1.46344718e+00]\n",
            " [-1.25151294e+00  2.74792621e-02]\n",
            " [ 2.20937835e+00 -8.05690832e-01]\n",
            " [-3.84416995e+00 -5.74263508e-01]\n",
            " [-1.77983157e+00 -1.38012167e+00]\n",
            " [ 4.35413058e+00 -2.33750318e+00]\n",
            " [ 3.33834347e+00 -1.51169086e+00]\n",
            " [-1.44769123e+00  1.90826204e+00]\n",
            " [-2.75066706e+00 -2.07100640e+00]\n",
            " [ 2.79475799e+00 -1.36659228e+00]\n",
            " [ 1.84642601e+00 -6.82481476e-01]\n",
            " [-4.13332842e-01  2.20440158e+00]\n",
            " [-4.81356617e-02  1.17469609e+00]\n",
            " [ 1.99166500e+00 -2.50860656e-01]\n",
            " [ 2.26421169e+00 -1.32120813e+00]\n",
            " [ 7.85551414e-01 -2.46487051e-01]\n",
            " [-3.32586984e+00 -2.14485564e+00]\n",
            " [ 1.00496881e+00  7.20390295e-01]\n",
            " [ 2.31479633e+00  2.62129546e-01]\n",
            " [ 8.67032066e-01  1.36440259e+00]\n",
            " [-2.28629769e+00 -4.54244754e-01]\n",
            " [ 3.14452871e+00 -1.29318898e+00]\n",
            " [-1.65297942e+00  1.74177394e+00]\n",
            " [-2.84689388e+00 -7.78426712e-02]\n",
            " [-2.68393126e+00 -2.53813173e-01]\n",
            " [ 1.97280128e+00 -1.70171835e+00]\n",
            " [ 1.63120111e+00  7.24762688e-01]\n",
            " [-2.05082836e+00 -2.11848206e-01]\n",
            " [ 2.28798382e+00 -1.95899701e+00]\n",
            " [-2.28266458e+00 -2.07243579e-01]\n",
            " [-3.45079842e-01  1.92360626e+00]\n",
            " [ 1.49448758e+00 -7.18673825e-01]\n",
            " [ 2.26695932e+00 -7.93531817e-01]\n",
            " [-3.44673144e-01  1.92686997e+00]\n",
            " [ 2.75927029e+00 -1.56391999e+00]\n",
            " [-2.86839562e+00 -1.85579453e+00]\n",
            " [-1.46228982e+00  1.22151405e+00]\n",
            " [-3.31754434e+00 -1.20382601e+00]\n",
            " [ 1.72057718e+00 -1.36843828e-01]\n",
            " [-2.90065973e+00 -3.71521776e-01]\n",
            " [-2.30532411e+00 -2.14386284e+00]\n",
            " [-3.51377495e+00 -1.17981731e+00]\n",
            " [ 2.32780065e+00 -2.95396131e-01]\n",
            " [ 1.54528723e+00  1.99996309e+00]\n",
            " [-3.32660657e-01  2.37118865e+00]\n",
            " [ 4.96648201e-01  9.57282660e-01]\n",
            " [ 6.69654741e-01  3.80907536e+00]\n",
            " [-2.76009366e+00 -1.48785734e+00]\n",
            " [-3.19187371e+00 -2.70815669e+00]\n",
            " [-6.05023707e-01  1.10583182e+00]\n",
            " [-1.34006934e+00  1.51232906e+00]\n",
            " [ 1.05506599e+00 -9.49724036e-01]\n",
            " [ 1.16017702e+00  1.39768493e+00]\n",
            " [-2.87675356e+00 -1.15157946e+00]\n",
            " [-2.35838421e+00 -2.44842974e+00]\n",
            " [ 2.54704855e+00 -1.86824592e+00]\n",
            " [ 3.20597222e+00 -1.85912926e+00]\n",
            " [-2.69949485e+00 -1.75638262e-01]\n",
            " [-9.67436859e-01  1.81399824e+00]\n",
            " [-1.46454259e+00  1.01680272e+00]\n",
            " [-4.04000223e-01  2.40815711e+00]\n",
            " [ 1.46393837e+00 -6.90763351e-01]\n",
            " [ 1.15903114e+00 -2.91379684e-01]\n",
            " [ 2.82057099e+00 -8.99578955e-01]\n",
            " [-5.01011897e-01  2.68453162e+00]\n",
            " [ 3.30453915e-01  2.43396193e+00]\n",
            " [ 1.09727608e-02  1.99585453e+00]\n",
            " [ 2.89176687e+00 -7.71555485e-01]\n",
            " [-2.44830439e+00 -2.11360296e+00]]\n"
          ]
        }
      ]
    },
    {
      "cell_type": "markdown",
      "metadata": {
        "id": "UBx16JVLAuel"
      },
      "source": [
        "## Training the Logistic Regression model on the Training set"
      ]
    },
    {
      "cell_type": "code",
      "source": [
        "from sklearn.linear_model import LogisticRegression\n",
        "classifier = LogisticRegression(random_state=0)\n",
        "classifier.fit(X_train, y_train)"
      ],
      "metadata": {
        "colab": {
          "base_uri": "https://localhost:8080/"
        },
        "id": "_xp1F8ehQElf",
        "outputId": "d3af56c6-6cf2-4029-deab-e833d79a7256"
      },
      "execution_count": 14,
      "outputs": [
        {
          "output_type": "execute_result",
          "data": {
            "text/plain": [
              "LogisticRegression(random_state=0)"
            ]
          },
          "metadata": {},
          "execution_count": 14
        }
      ]
    },
    {
      "cell_type": "markdown",
      "metadata": {
        "id": "MTck416XBPnD"
      },
      "source": [
        "## Making the Confusion Matrix"
      ]
    },
    {
      "cell_type": "code",
      "source": [
        "from sklearn.metrics import accuracy_score, confusion_matrix\n",
        "y_pred = classifier.predict(X_test)\n",
        "cm = confusion_matrix(y_test, y_pred)\n",
        "print(cm)\n",
        "accuracy_score(y_test, y_pred)"
      ],
      "metadata": {
        "colab": {
          "base_uri": "https://localhost:8080/"
        },
        "id": "1xoJ7em1QXp5",
        "outputId": "7300aa38-06c8-49be-e49c-28ce661e63ca"
      },
      "execution_count": 15,
      "outputs": [
        {
          "output_type": "stream",
          "name": "stdout",
          "text": [
            "[[14  0  0]\n",
            " [ 1 15  0]\n",
            " [ 0  0  6]]\n"
          ]
        },
        {
          "output_type": "execute_result",
          "data": {
            "text/plain": [
              "0.9722222222222222"
            ]
          },
          "metadata": {},
          "execution_count": 15
        }
      ]
    },
    {
      "cell_type": "markdown",
      "metadata": {
        "id": "h6pZMBrUBXwb"
      },
      "source": [
        "## Visualising the Training set results"
      ]
    },
    {
      "cell_type": "code",
      "metadata": {
        "id": "FK_LpLOeBdQ4",
        "outputId": "70ab36eb-243b-4583-e590-d7f9e10efe11",
        "colab": {
          "base_uri": "https://localhost:8080/",
          "height": 369
        }
      },
      "source": [
        "from matplotlib.colors import ListedColormap\n",
        "X_set, y_set = X_train, y_train\n",
        "X1, X2 = np.meshgrid(np.arange(start = X_set[:, 0].min() - 1, stop = X_set[:, 0].max() + 1, step = 0.01),\n",
        "                     np.arange(start = X_set[:, 1].min() - 1, stop = X_set[:, 1].max() + 1, step = 0.01))\n",
        "plt.contourf(X1, X2, classifier.predict(np.array([X1.ravel(), X2.ravel()]).T).reshape(X1.shape),\n",
        "             alpha = 0.75, cmap = ListedColormap(('red', 'green', 'blue')))\n",
        "plt.xlim(X1.min(), X1.max())\n",
        "plt.ylim(X2.min(), X2.max())\n",
        "for i, j in enumerate(np.unique(y_set)):\n",
        "    plt.scatter(X_set[y_set == j, 0], X_set[y_set == j, 1],\n",
        "                c = ListedColormap(('red', 'green', 'blue'))(i), label = j)\n",
        "plt.title('Logistic Regression (Training set)')\n",
        "plt.xlabel('PC1')\n",
        "plt.ylabel('PC2')\n",
        "plt.legend()\n",
        "plt.show()"
      ],
      "execution_count": 16,
      "outputs": [
        {
          "output_type": "stream",
          "name": "stderr",
          "text": [
            "WARNING:matplotlib.axes._axes:*c* argument looks like a single numeric RGB or RGBA sequence, which should be avoided as value-mapping will have precedence in case its length matches with *x* & *y*.  Please use the *color* keyword-argument or provide a 2-D array with a single row if you intend to specify the same RGB or RGBA value for all points.\n",
            "WARNING:matplotlib.axes._axes:*c* argument looks like a single numeric RGB or RGBA sequence, which should be avoided as value-mapping will have precedence in case its length matches with *x* & *y*.  Please use the *color* keyword-argument or provide a 2-D array with a single row if you intend to specify the same RGB or RGBA value for all points.\n",
            "WARNING:matplotlib.axes._axes:*c* argument looks like a single numeric RGB or RGBA sequence, which should be avoided as value-mapping will have precedence in case its length matches with *x* & *y*.  Please use the *color* keyword-argument or provide a 2-D array with a single row if you intend to specify the same RGB or RGBA value for all points.\n"
          ]
        },
        {
          "output_type": "display_data",
          "data": {
            "text/plain": [
              "<Figure size 432x288 with 1 Axes>"
            ],
            "image/png": "[encoded data removed]"
          },
          "metadata": {
            "needs_background": "light"
          }
        }
      ]
    },
    {
      "cell_type": "markdown",
      "metadata": {
        "id": "-Dbzx_KqBguX"
      },
      "source": [
        "## Visualising the Test set results"
      ]
    },
    {
      "cell_type": "code",
      "metadata": {
        "id": "kk07XbUHBl0W",
        "outputId": "c70a020b-afcb-4103-a782-81ff9c6b4457",
        "colab": {
          "base_uri": "https://localhost:8080/",
          "height": 369
        }
      },
      "source": [
        "from matplotlib.colors import ListedColormap\n",
        "X_set, y_set = X_test, y_test\n",
        "X1, X2 = np.meshgrid(np.arange(start = X_set[:, 0].min() - 1, stop = X_set[:, 0].max() + 1, step = 0.01),\n",
        "                     np.arange(start = X_set[:, 1].min() - 1, stop = X_set[:, 1].max() + 1, step = 0.01))\n",
        "plt.contourf(X1, X2, classifier.predict(np.array([X1.ravel(), X2.ravel()]).T).reshape(X1.shape),\n",
        "             alpha = 0.75, cmap = ListedColormap(('red', 'green', 'blue')))\n",
        "plt.xlim(X1.min(), X1.max())\n",
        "plt.ylim(X2.min(), X2.max())\n",
        "for i, j in enumerate(np.unique(y_set)):\n",
        "    plt.scatter(X_set[y_set == j, 0], X_set[y_set == j, 1],\n",
        "                c = ListedColormap(('red', 'green', 'blue'))(i), label = j)\n",
        "plt.title('Logistic Regression (Test set)')\n",
        "plt.xlabel('PC1')\n",
        "plt.ylabel('PC2')\n",
        "plt.legend()\n",
        "plt.show()"
      ],
      "execution_count": 17,
      "outputs": [
        {
          "output_type": "stream",
          "name": "stderr",
          "text": [
            "WARNING:matplotlib.axes._axes:*c* argument looks like a single numeric RGB or RGBA sequence, which should be avoided as value-mapping will have precedence in case its length matches with *x* & *y*.  Please use the *color* keyword-argument or provide a 2-D array with a single row if you intend to specify the same RGB or RGBA value for all points.\n",
            "WARNING:matplotlib.axes._axes:*c* argument looks like a single numeric RGB or RGBA sequence, which should be avoided as value-mapping will have precedence in case its length matches with *x* & *y*.  Please use the *color* keyword-argument or provide a 2-D array with a single row if you intend to specify the same RGB or RGBA value for all points.\n",
            "WARNING:matplotlib.axes._axes:*c* argument looks like a single numeric RGB or RGBA sequence, which should be avoided as value-mapping will have precedence in case its length matches with *x* & *y*.  Please use the *color* keyword-argument or provide a 2-D array with a single row if you intend to specify the same RGB or RGBA value for all points.\n"
          ]
        },
        {
          "output_type": "display_data",
          "data": {
            "text/plain": [
              "<Figure size 432x288 with 1 Axes>"
            ],
            "image/png": "[encoded data removed]"
          },
          "metadata": {
            "needs_background": "light"
          }
        }
      ]
    }
  ]
}