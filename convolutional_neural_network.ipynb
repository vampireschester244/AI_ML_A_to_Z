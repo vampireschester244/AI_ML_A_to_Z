{
  "cells": [
    {
      "cell_type": "markdown",
      "metadata": {
        "id": "3DR-eO17geWu"
      },
      "source": [
        "# Convolutional Neural Network"
      ]
    },
    {
      "cell_type": "markdown",
      "metadata": {
        "id": "EMefrVPCg-60"
      },
      "source": [
        "### Importing the libraries"
      ]
    },
    {
      "cell_type": "code",
      "execution_count": 1,
      "metadata": {
        "id": "uQkMYGjNp6ni"
      },
      "outputs": [],
      "source": [
        "import tensorflow as tf\n",
        "from keras.preprocessing.image import ImageDataGenerator"
      ]
    },
    {
      "cell_type": "code",
      "execution_count": 2,
      "metadata": {
        "colab": {
          "base_uri": "https://localhost:8080/"
        },
        "id": "tAVOlkl4qI4g",
        "outputId": "68d5b9e0-3b80-4db9-b37c-4eb3b5312242"
      },
      "outputs": [
        {
          "name": "stdout",
          "output_type": "stream",
          "text": [
            "2.11.0\n"
          ]
        }
      ],
      "source": [
        "print(tf.__version__)"
      ]
    },
    {
      "cell_type": "markdown",
      "metadata": {
        "id": "oxQxCBWyoGPE"
      },
      "source": [
        "## Part 1 - Data Preprocessing"
      ]
    },
    {
      "cell_type": "markdown",
      "metadata": {
        "id": "MvE-heJNo3GG"
      },
      "source": [
        "### Preprocessing the Training set"
      ]
    },
    {
      "cell_type": "code",
      "execution_count": 3,
      "metadata": {
        "id": "rGoaBPxuqRzV"
      },
      "outputs": [
        {
          "name": "stdout",
          "output_type": "stream",
          "text": [
            "Found 8048 images belonging to 2 classes.\n"
          ]
        }
      ],
      "source": [
        "train_datagen = ImageDataGenerator(rescale = 1./255,\n",
        "                                   shear_range = 0.2,\n",
        "                                   zoom_range = 0.2,\n",
        "                                   horizontal_flip = True)\n",
        "training_set = train_datagen.flow_from_directory('dataset/training_set',\n",
        "                                                 target_size = (64, 64),\n",
        "                                                 batch_size = 32,\n",
        "                                                 class_mode = 'binary')"
      ]
    },
    {
      "cell_type": "markdown",
      "metadata": {
        "id": "mrCMmGw9pHys"
      },
      "source": [
        "### Preprocessing the Test set"
      ]
    },
    {
      "cell_type": "code",
      "execution_count": 4,
      "metadata": {},
      "outputs": [
        {
          "name": "stdout",
          "output_type": "stream",
          "text": [
            "Found 2000 images belonging to 2 classes.\n"
          ]
        }
      ],
      "source": [
        "test_datagen = ImageDataGenerator(rescale = 1./255)\n",
        "test_set = test_datagen.flow_from_directory('dataset/test_set',\n",
        "                                            target_size = (64, 64),\n",
        "                                            batch_size = 32,\n",
        "                                            class_mode = 'binary')"
      ]
    },
    {
      "cell_type": "markdown",
      "metadata": {
        "id": "af8O4l90gk7B"
      },
      "source": [
        "## Part 2 - Building the CNN"
      ]
    },
    {
      "cell_type": "markdown",
      "metadata": {
        "id": "ces1gXY2lmoX"
      },
      "source": [
        "### Initialising the CNN"
      ]
    },
    {
      "cell_type": "code",
      "execution_count": 5,
      "metadata": {},
      "outputs": [],
      "source": [
        "cnn = tf.keras.models.Sequential()"
      ]
    },
    {
      "cell_type": "markdown",
      "metadata": {
        "id": "u5YJj_XMl5LF"
      },
      "source": [
        "### Step 1 - Convolution"
      ]
    },
    {
      "cell_type": "code",
      "execution_count": 6,
      "metadata": {},
      "outputs": [],
      "source": [
        "cnn.add(tf.keras.layers.Conv2D(filters=32, kernel_size=3, activation='relu', input_shape=[64,64,3]))"
      ]
    },
    {
      "cell_type": "markdown",
      "metadata": {
        "id": "tf87FpvxmNOJ"
      },
      "source": [
        "### Step 2 - Pooling"
      ]
    },
    {
      "cell_type": "code",
      "execution_count": 7,
      "metadata": {},
      "outputs": [],
      "source": [
        "cnn.add(tf.keras.layers.MaxPool2D(pool_size=2, strides=2))"
      ]
    },
    {
      "cell_type": "markdown",
      "metadata": {
        "id": "xaTOgD8rm4mU"
      },
      "source": [
        "### Adding a second convolutional layer"
      ]
    },
    {
      "cell_type": "code",
      "execution_count": 8,
      "metadata": {},
      "outputs": [],
      "source": [
        "cnn.add(tf.keras.layers.Conv2D(filters=32, kernel_size=3, activation='relu'))\n",
        "cnn.add(tf.keras.layers.MaxPool2D(pool_size=2, strides=2))"
      ]
    },
    {
      "cell_type": "markdown",
      "metadata": {
        "id": "tmiEuvTunKfk"
      },
      "source": [
        "### Step 3 - Flattening"
      ]
    },
    {
      "cell_type": "code",
      "execution_count": 9,
      "metadata": {},
      "outputs": [],
      "source": [
        "cnn.add(tf.keras.layers.Flatten())"
      ]
    },
    {
      "cell_type": "markdown",
      "metadata": {
        "id": "dAoSECOm203v"
      },
      "source": [
        "### Step 4 - Full Connection"
      ]
    },
    {
      "cell_type": "code",
      "execution_count": 10,
      "metadata": {},
      "outputs": [],
      "source": [
        "cnn.add(tf.keras.layers.Dense(units=128, activation='relu'))"
      ]
    },
    {
      "cell_type": "markdown",
      "metadata": {
        "id": "yTldFvbX28Na"
      },
      "source": [
        "### Step 5 - Output Layer"
      ]
    },
    {
      "cell_type": "code",
      "execution_count": 11,
      "metadata": {},
      "outputs": [],
      "source": [
        "cnn.add(tf.keras.layers.Dense(units=1, activation='sigmoid'))"
      ]
    },
    {
      "cell_type": "markdown",
      "metadata": {
        "id": "D6XkI90snSDl"
      },
      "source": [
        "## Part 3 - Training the CNN"
      ]
    },
    {
      "cell_type": "markdown",
      "metadata": {
        "id": "vfrFQACEnc6i"
      },
      "source": [
        "### Compiling the CNN"
      ]
    },
    {
      "cell_type": "code",
      "execution_count": 12,
      "metadata": {},
      "outputs": [],
      "source": [
        "cnn.compile(optimizer='adam', loss='binary_crossentropy', metrics=['accuracy'])"
      ]
    },
    {
      "cell_type": "markdown",
      "metadata": {
        "id": "ehS-v3MIpX2h"
      },
      "source": [
        "### Training the CNN on the Training set and evaluating it on the Test set"
      ]
    },
    {
      "cell_type": "code",
      "execution_count": 14,
      "metadata": {},
      "outputs": [],
      "source": [
        "from PIL import Image"
      ]
    },
    {
      "cell_type": "code",
      "execution_count": 15,
      "metadata": {},
      "outputs": [
        {
          "name": "stdout",
          "output_type": "stream",
          "text": [
            "Epoch 1/25\n",
            "252/252 [==============================] - 102s 403ms/step - loss: 0.6563 - accuracy: 0.6005 - val_loss: 0.6187 - val_accuracy: 0.6590\n",
            "Epoch 2/25\n",
            "252/252 [==============================] - 46s 181ms/step - loss: 0.5887 - accuracy: 0.6875 - val_loss: 0.5535 - val_accuracy: 0.7175\n",
            "Epoch 3/25\n",
            "252/252 [==============================] - 51s 204ms/step - loss: 0.5552 - accuracy: 0.7132 - val_loss: 0.5465 - val_accuracy: 0.7275\n",
            "Epoch 4/25\n",
            "252/252 [==============================] - 41s 163ms/step - loss: 0.5362 - accuracy: 0.7312 - val_loss: 0.5133 - val_accuracy: 0.7545\n",
            "Epoch 5/25\n",
            "252/252 [==============================] - 47s 188ms/step - loss: 0.5047 - accuracy: 0.7531 - val_loss: 0.5513 - val_accuracy: 0.7295\n",
            "Epoch 6/25\n",
            "252/252 [==============================] - 40s 158ms/step - loss: 0.4837 - accuracy: 0.7676 - val_loss: 0.4947 - val_accuracy: 0.7670\n",
            "Epoch 7/25\n",
            "252/252 [==============================] - 51s 202ms/step - loss: 0.4722 - accuracy: 0.7721 - val_loss: 0.4850 - val_accuracy: 0.7630\n",
            "Epoch 8/25\n",
            "252/252 [==============================] - 43s 171ms/step - loss: 0.4465 - accuracy: 0.7934 - val_loss: 0.4744 - val_accuracy: 0.7835\n",
            "Epoch 9/25\n",
            "252/252 [==============================] - 35s 139ms/step - loss: 0.4383 - accuracy: 0.7936 - val_loss: 0.4524 - val_accuracy: 0.7880\n",
            "Epoch 10/25\n",
            "252/252 [==============================] - 32s 126ms/step - loss: 0.4127 - accuracy: 0.8098 - val_loss: 0.4787 - val_accuracy: 0.7735\n",
            "Epoch 11/25\n",
            "252/252 [==============================] - 30s 120ms/step - loss: 0.4008 - accuracy: 0.8132 - val_loss: 0.5197 - val_accuracy: 0.7800\n",
            "Epoch 12/25\n",
            "252/252 [==============================] - 31s 121ms/step - loss: 0.3930 - accuracy: 0.8216 - val_loss: 0.4318 - val_accuracy: 0.8080\n",
            "Epoch 13/25\n",
            "252/252 [==============================] - 34s 134ms/step - loss: 0.3827 - accuracy: 0.8254 - val_loss: 0.4615 - val_accuracy: 0.7915\n",
            "Epoch 14/25\n",
            "252/252 [==============================] - 32s 129ms/step - loss: 0.3721 - accuracy: 0.8331 - val_loss: 0.4458 - val_accuracy: 0.8035\n",
            "Epoch 15/25\n",
            "252/252 [==============================] - 38s 149ms/step - loss: 0.3539 - accuracy: 0.8431 - val_loss: 0.4308 - val_accuracy: 0.8090\n",
            "Epoch 16/25\n",
            "252/252 [==============================] - 39s 156ms/step - loss: 0.3384 - accuracy: 0.8525 - val_loss: 0.4697 - val_accuracy: 0.8035\n",
            "Epoch 17/25\n",
            "252/252 [==============================] - 44s 174ms/step - loss: 0.3263 - accuracy: 0.8547 - val_loss: 0.4280 - val_accuracy: 0.8140\n",
            "Epoch 18/25\n",
            "252/252 [==============================] - 43s 169ms/step - loss: 0.3066 - accuracy: 0.8705 - val_loss: 0.4598 - val_accuracy: 0.8005\n",
            "Epoch 19/25\n",
            "252/252 [==============================] - 58s 232ms/step - loss: 0.3034 - accuracy: 0.8714 - val_loss: 0.4861 - val_accuracy: 0.7925\n",
            "Epoch 20/25\n",
            "252/252 [==============================] - 42s 166ms/step - loss: 0.2891 - accuracy: 0.8748 - val_loss: 0.4740 - val_accuracy: 0.8030\n",
            "Epoch 21/25\n",
            "252/252 [==============================] - 52s 207ms/step - loss: 0.2817 - accuracy: 0.8826 - val_loss: 0.4921 - val_accuracy: 0.8010\n",
            "Epoch 22/25\n",
            "252/252 [==============================] - 45s 179ms/step - loss: 0.2762 - accuracy: 0.8817 - val_loss: 0.4860 - val_accuracy: 0.8070\n",
            "Epoch 23/25\n",
            "252/252 [==============================] - 41s 163ms/step - loss: 0.2433 - accuracy: 0.8991 - val_loss: 0.4897 - val_accuracy: 0.8130\n",
            "Epoch 24/25\n",
            "252/252 [==============================] - 43s 170ms/step - loss: 0.2443 - accuracy: 0.8974 - val_loss: 0.4646 - val_accuracy: 0.8230\n",
            "Epoch 25/25\n",
            "252/252 [==============================] - 46s 182ms/step - loss: 0.2310 - accuracy: 0.9035 - val_loss: 0.4978 - val_accuracy: 0.8110\n"
          ]
        },
        {
          "data": {
            "text/plain": [
              "<keras.callbacks.History at 0x10c4f6640a0>"
            ]
          },
          "execution_count": 15,
          "metadata": {},
          "output_type": "execute_result"
        }
      ],
      "source": [
        "cnn.fit(x = training_set, validation_data = test_set, epochs = 25)"
      ]
    },
    {
      "cell_type": "markdown",
      "metadata": {
        "id": "U3PZasO0006Z"
      },
      "source": [
        "## Part 4 - Making a single prediction"
      ]
    },
    {
      "cell_type": "code",
      "execution_count": 22,
      "metadata": {},
      "outputs": [
        {
          "name": "stdout",
          "output_type": "stream",
          "text": [
            "1/1 [==============================] - 0s 18ms/step\n"
          ]
        }
      ],
      "source": [
        "import numpy as np\n",
        "import keras.utils as image\n",
        "test_image = image.load_img('dataset/single_prediction/cat_or_dog_1.jpg', target_size = (64, 64))\n",
        "test_image = image.img_to_array(test_image)\n",
        "test_image = np.expand_dims(test_image, axis = 0)\n",
        "result = cnn.predict(test_image)\n",
        "training_set.class_indices\n",
        "if result[0][0] == 1:\n",
        "  prediction = 'dog'\n",
        "else:\n",
        "  prediction = 'cat'"
      ]
    },
    {
      "cell_type": "code",
      "execution_count": 23,
      "metadata": {},
      "outputs": [
        {
          "name": "stdout",
          "output_type": "stream",
          "text": [
            "dog\n"
          ]
        }
      ],
      "source": [
        "print(prediction)"
      ]
    }
  ],
  "metadata": {
    "colab": {
      "provenance": []
    },
    "kernelspec": {
      "display_name": "Python 3.10.7 64-bit",
      "language": "python",
      "name": "python3"
    },
    "language_info": {
      "codemirror_mode": {
        "name": "ipython",
        "version": 3
      },
      "file_extension": ".py",
      "mimetype": "text/x-python",
      "name": "python",
      "nbconvert_exporter": "python",
      "pygments_lexer": "ipython3",
      "version": "3.10.7"
    },
    "vscode": {
      "interpreter": {
        "hash": "15cedaf321d31beef759818379dd67e96fc554f5cfaf267940068b491ad03719"
      }
    }
  },
  "nbformat": 4,
  "nbformat_minor": 0
}
